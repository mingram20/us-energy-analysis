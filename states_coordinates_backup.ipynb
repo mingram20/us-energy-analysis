{
 "cells": [
  {
   "cell_type": "code",
   "execution_count": null,
   "metadata": {},
   "outputs": [],
   "source": [
    "# Dependencies\n",
    "import pandas as pd\n",
    "import sqlalchemy\n",
    "from sqlalchemy import create_engine\n",
    "\n",
    "# Import and establish Base for which classes will be constructed \n",
    "from sqlalchemy.ext.declarative import declarative_base\n",
    "Base = declarative_base()\n",
    "\n",
    "# Import modules to declare columns and column data types\n",
    "from sqlalchemy import Column, Integer, String, Float, BIGINT\n",
    "import sqlite3"
   ]
  },
  {
   "cell_type": "code",
   "execution_count": null,
   "metadata": {},
   "outputs": [],
   "source": [
    "# Store filepath in a variable\n",
    "state_coordinates = \"/Users/admin/Desktop/us_energy/us-energy-analysis/assets/data/state_coordinates/statelatlong.csv\""
   ]
  },
  {
   "cell_type": "code",
   "execution_count": null,
   "metadata": {},
   "outputs": [],
   "source": [
    "# Read our Data file with the pandas library\n",
    "state_coordinates_df = pd.read_csv(state_coordinates, encoding=\"ISO-8859-1\")"
   ]
  },
  {
   "cell_type": "code",
   "execution_count": null,
   "metadata": {},
   "outputs": [],
   "source": [
    "# Show just the header\n",
    "state_coordinates_df.head()"
   ]
  },
  {
   "cell_type": "code",
   "execution_count": null,
   "metadata": {},
   "outputs": [],
   "source": [
    "# Name the Index Column\n",
    "state_coordinates_df.index.names = ['id']\n",
    "state_coordinates_df.head()"
   ]
  },
  {
   "cell_type": "code",
   "execution_count": null,
   "metadata": {},
   "outputs": [],
   "source": [
    "# Create a new Engine instance\n",
    "engine = create_engine('sqlite:///assets/db/us_energy.sqlite', echo=False)"
   ]
  },
  {
   "cell_type": "code",
   "execution_count": null,
   "metadata": {},
   "outputs": [],
   "source": [
    "# Import Dataframe into SQLite\n",
    "state_coordinates_df.to_sql('state_coordinates', con=engine)"
   ]
  },
  {
   "cell_type": "code",
   "execution_count": null,
   "metadata": {},
   "outputs": [],
   "source": [
    "# Execute a Query to check if the table has been imported successfully \n",
    "engine.execute('SELECT * FROM state_coordinates').fetchall()"
   ]
  },
  {
   "cell_type": "code",
   "execution_count": null,
   "metadata": {},
   "outputs": [],
   "source": [
    "# Closing all currently checked in database connections.\n",
    "engine.dispose()"
   ]
  },
  {
   "cell_type": "code",
   "execution_count": null,
   "metadata": {},
   "outputs": [],
   "source": [
    "# Create a Connection object \n",
    "con = sqlite3.connect('/Users/admin/Desktop/us_energy/us-energy-analysis/assets/db/us_energy.sqlite')"
   ]
  },
  {
   "cell_type": "code",
   "execution_count": null,
   "metadata": {},
   "outputs": [],
   "source": [
    "# Cursor object to fetch results\n",
    "cur = con.cursor()"
   ]
  },
  {
   "cell_type": "code",
   "execution_count": null,
   "metadata": {},
   "outputs": [],
   "source": [
    "# Disable Foreign Key\n",
    "cur.execute('PRAGMA foreign_keys=off')"
   ]
  },
  {
   "cell_type": "code",
   "execution_count": null,
   "metadata": {},
   "outputs": [],
   "source": [
    "# Open a Transaction\n",
    "cur.execute('BEGIN TRANSACTION;')"
   ]
  },
  {
   "cell_type": "code",
   "execution_count": null,
   "metadata": {},
   "outputs": [],
   "source": [
    "# Rename the \"state_coordinates\" to \"old_table\"\n",
    "cur.execute('ALTER TABLE state_coordinates RENAME TO old_table;')"
   ]
  },
  {
   "cell_type": "code",
   "execution_count": null,
   "metadata": {},
   "outputs": [],
   "source": [
    "# Create a new table with the same name \"state_coordinates\"\n",
    "cur.execute('CREATE TABLE state_coordinates (id Integer PRIMARY KEY NOT NULL,State Text, Latitude Float, Longitude Float, US_State String);')"
   ]
  },
  {
   "cell_type": "code",
   "execution_count": null,
   "metadata": {},
   "outputs": [],
   "source": [
    "# Insert \"old_table\" data into the newly created table \"state_coordinates\"\n",
    "cur.execute('INSERT INTO state_coordinates SELECT * FROM old_table;')"
   ]
  },
  {
   "cell_type": "code",
   "execution_count": null,
   "metadata": {},
   "outputs": [],
   "source": [
    "# Delete the \"old_table\"\n",
    "cur.execute('DROP TABLE old_table;')"
   ]
  },
  {
   "cell_type": "code",
   "execution_count": null,
   "metadata": {},
   "outputs": [],
   "source": [
    "# Commit the changes to the database \"us_energy.sqlite\"\n",
    "cur.execute('COMMIT TRANSACTION;')"
   ]
  },
  {
   "cell_type": "code",
   "execution_count": null,
   "metadata": {},
   "outputs": [],
   "source": [
    "# Enabling the Foreign Key\n",
    "cur.execute('PRAGMA foreign_keys=on;')"
   ]
  },
  {
   "cell_type": "code",
   "execution_count": null,
   "metadata": {},
   "outputs": [],
   "source": [
    "# Close the database connection\n",
    "cur.close()\n",
    "conn.close()"
   ]
  },
  {
   "cell_type": "code",
   "execution_count": null,
   "metadata": {},
   "outputs": [],
   "source": [
    "# Execute a Query to check if the table has been imported successfully \n",
    "engine.execute('SELECT * FROM state_coordinates').fetchall()"
   ]
  },
  {
   "cell_type": "code",
   "execution_count": null,
   "metadata": {},
   "outputs": [],
   "source": [
    "# Assign final_combine_table.csv to final_combine_table\n",
    "final_combine_table = \"/Users/admin/Desktop/us_energy/us-energy-analysis/assets/data/EIA_Project_Data/final_combine_table.csv\""
   ]
  },
  {
   "cell_type": "code",
   "execution_count": null,
   "metadata": {},
   "outputs": [],
   "source": [
    "# Create a Connection object \n",
    "con = sqlite3.connect('/Users/admin/Desktop/us_energy/us-energy-analysis/assets/db/us_energy.sqlite')"
   ]
  },
  {
   "cell_type": "code",
   "execution_count": null,
   "metadata": {},
   "outputs": [],
   "source": [
    "# Read our Data file with the pandas library\n",
    "final_combine_table_df = pd.read_csv(final_combine_table, encoding=\"ISO-8859-1\")"
   ]
  },
  {
   "cell_type": "code",
   "execution_count": null,
   "metadata": {},
   "outputs": [],
   "source": [
    "# Show just the header\n",
    "final_combine_table_df.head()"
   ]
  },
  {
   "cell_type": "code",
   "execution_count": null,
   "metadata": {},
   "outputs": [],
   "source": [
    "# Rename the Index Column\n",
    "final_combine_table_df.index.names = ['id']\n",
    "final_combine_table_df.head()"
   ]
  },
  {
   "cell_type": "code",
   "execution_count": null,
   "metadata": {},
   "outputs": [],
   "source": [
    "# Import Dataframe into SQLite\n",
    "final_combine_table_df.to_sql('final_combine_table', con=engine)"
   ]
  },
  {
   "cell_type": "code",
   "execution_count": null,
   "metadata": {},
   "outputs": [],
   "source": [
    "# Execute a Query to check if the table has been imported successfully \n",
    "engine.execute('SELECT * FROM final_combine_table').fetchall()"
   ]
  },
  {
   "cell_type": "code",
   "execution_count": null,
   "metadata": {},
   "outputs": [],
   "source": [
    "# Closing all currently checked in database connections.\n",
    "engine.dispose()"
   ]
  },
  {
   "cell_type": "code",
   "execution_count": null,
   "metadata": {},
   "outputs": [],
   "source": [
    "# Create a Connection object \n",
    "con = sqlite3.connect('/Users/admin/Desktop/us_energy/us-energy-analysis/assets/db/us_energy.sqlite')"
   ]
  },
  {
   "cell_type": "code",
   "execution_count": null,
   "metadata": {},
   "outputs": [],
   "source": [
    "# Cursor object to fetch results\n",
    "cur = con.cursor()"
   ]
  },
  {
   "cell_type": "code",
   "execution_count": null,
   "metadata": {},
   "outputs": [],
   "source": [
    "# Disable Foreign Key\n",
    "cur.execute('PRAGMA foreign_keys=off')"
   ]
  },
  {
   "cell_type": "code",
   "execution_count": null,
   "metadata": {},
   "outputs": [],
   "source": [
    "# Open a Transaction\n",
    "cur.execute('BEGIN TRANSACTION;')"
   ]
  },
  {
   "cell_type": "code",
   "execution_count": null,
   "metadata": {},
   "outputs": [],
   "source": [
    "# Rename the \"state_coordinates\" to \"old_table\"\n",
    "cur.execute('ALTER TABLE final_combine_table RENAME TO old_table;')"
   ]
  },
  {
   "cell_type": "code",
   "execution_count": null,
   "metadata": {},
   "outputs": [],
   "source": [
    "# Create a new table with the same name \"final_combine_table\"\n",
    "cur.execute('CREATE TABLE final_combine_table (id Integer PRIMARY KEY NOT NULL, State Text, Year Integer, Total_co2_emission Float,CO2_Unit Text,Average_Price Float, Price_Unit TEXT, resident_population BIGINT, Pop_Unit TEXT, Total_energy BIGINT, ENERGY_Unit TEXT, Total_renewable_energy BIGINT,Renew_Unit TEXT);')"
   ]
  },
  {
   "cell_type": "code",
   "execution_count": null,
   "metadata": {},
   "outputs": [],
   "source": [
    "# Insert \"old_table\" data into the newly created table \"state_coordinates\"\n",
    "cur.execute('INSERT INTO final_combine_table SELECT * FROM old_table;')"
   ]
  },
  {
   "cell_type": "code",
   "execution_count": null,
   "metadata": {},
   "outputs": [],
   "source": [
    "# Delete the \"old_table\"\n",
    "cur.execute('DROP TABLE old_table;')"
   ]
  },
  {
   "cell_type": "code",
   "execution_count": null,
   "metadata": {},
   "outputs": [],
   "source": [
    "# Commit the changes to the database \"us_energy.sqlite\"\n",
    "cur.execute('COMMIT TRANSACTION;')"
   ]
  },
  {
   "cell_type": "code",
   "execution_count": null,
   "metadata": {},
   "outputs": [],
   "source": [
    "# Enabling the Foreign Key\n",
    "cur.execute('PRAGMA foreign_keys=on;')"
   ]
  },
  {
   "cell_type": "code",
   "execution_count": null,
   "metadata": {},
   "outputs": [],
   "source": [
    "# Close the database connection\n",
    "cur.close()\n",
    "conn.close()"
   ]
  },
  {
   "cell_type": "code",
   "execution_count": null,
   "metadata": {},
   "outputs": [],
   "source": [
    "# Execute a Query to check if the table has been imported successfully \n",
    "engine.execute('SELECT * FROM final_combine_table').fetchall()"
   ]
  },
  {
   "cell_type": "code",
   "execution_count": null,
   "metadata": {},
   "outputs": [],
   "source": [
    "# Closing all currently checked in database connections\n",
    "engine.dispose()"
   ]
  },
  {
   "cell_type": "code",
   "execution_count": null,
   "metadata": {},
   "outputs": [],
   "source": []
  }
 ],
 "metadata": {
  "kernelspec": {
   "display_name": "Python (PythonData)",
   "language": "python",
   "name": "pythondata"
  },
  "language_info": {
   "codemirror_mode": {
    "name": "ipython",
    "version": 3
   },
   "file_extension": ".py",
   "mimetype": "text/x-python",
   "name": "python",
   "nbconvert_exporter": "python",
   "pygments_lexer": "ipython3",
   "version": "3.7.2"
  }
 },
 "nbformat": 4,
 "nbformat_minor": 2
}
